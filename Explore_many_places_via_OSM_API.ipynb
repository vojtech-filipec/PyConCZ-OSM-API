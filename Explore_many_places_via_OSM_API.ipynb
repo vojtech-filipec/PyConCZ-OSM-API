{
 "cells": [
  {
   "cell_type": "markdown",
   "metadata": {},
   "source": [
    "# Demo for PyConCz 2019\n",
    "\n",
    "These examples complement the presentation I was giving on PyCon CZ 2019.\n",
    "\n",
    "We use library `overpy` to access the Overpass API."
   ]
  },
  {
   "cell_type": "code",
   "execution_count": 1,
   "metadata": {},
   "outputs": [],
   "source": [
    "import overpy\n",
    "api = overpy.Overpass()"
   ]
  },
  {
   "cell_type": "markdown",
   "metadata": {},
   "source": [
    "## ad 3. Run The Query in Python"
   ]
  },
  {
   "cell_type": "code",
   "execution_count": 2,
   "metadata": {},
   "outputs": [
    {
     "name": "stdout",
     "output_type": "stream",
     "text": [
      "# nodes: 1\n"
     ]
    }
   ],
   "source": [
    "resp = api.query(\"\"\"\n",
    "node\n",
    "  [amenity=library]\n",
    "  (around: 50, 49.812428, 18.2718844);\n",
    "out;\"\"\")\n",
    "\n",
    "print(\"# nodes:\", len(resp.nodes))"
   ]
  },
  {
   "cell_type": "code",
   "execution_count": 3,
   "metadata": {},
   "outputs": [
    {
     "name": "stdout",
     "output_type": "stream",
     "text": [
      "2770028673 {'ref:ruian:addr': '31171753', 'addr:conscriptionnumber': '2941', 'amenity': 'library', 'name': 'Knihovna', 'addr:street': 'Kutuzovova', 'addr:streetnumber': '14', 'addr:housenumber': '2941/14', 'addr:postcode': '70300', 'addr:place': 'Vítkovice'}\n"
     ]
    }
   ],
   "source": [
    "for nd in resp.nodes:\n",
    "    print(nd.id, nd.tags)"
   ]
  },
  {
   "cell_type": "markdown",
   "metadata": {},
   "source": [
    "## ad 3. Parametrize"
   ]
  },
  {
   "cell_type": "code",
   "execution_count": 4,
   "metadata": {},
   "outputs": [
    {
     "name": "stdout",
     "output_type": "stream",
     "text": [
      "# nodes: 1\n"
     ]
    }
   ],
   "source": [
    "lat = 49.812428\n",
    "lon = 18.2718844\n",
    "\n",
    "resp_p = api.query(\"\"\"\n",
    "node\n",
    "  [amenity=library]\n",
    "  (around: 50, {}, {});\n",
    "out;\"\"\".format(lat, lon)\n",
    "                  )\n",
    "\n",
    "print(\"# nodes:\", len(resp_p.nodes))"
   ]
  },
  {
   "cell_type": "markdown",
   "metadata": {},
   "source": [
    "... or less pythonic and more explicit:"
   ]
  },
  {
   "cell_type": "code",
   "execution_count": 5,
   "metadata": {},
   "outputs": [
    {
     "name": "stdout",
     "output_type": "stream",
     "text": [
      "# nodes: 1\n"
     ]
    }
   ],
   "source": [
    "lat = 49.812428\n",
    "lon = 18.2718844\n",
    "\n",
    "resp_p = api.query(\"\"\"\n",
    "node\n",
    "  [amenity=library]\n",
    "  (around: 50,\"\"\" + str(lat) + \",\" + str(lon) +\"\"\");\n",
    "out;\"\"\")\n",
    "\n",
    "print(\"# nodes:\", len(resp_p.nodes))"
   ]
  },
  {
   "cell_type": "code",
   "execution_count": 6,
   "metadata": {
    "scrolled": true
   },
   "outputs": [
    {
     "name": "stdout",
     "output_type": "stream",
     "text": [
      "2770028673 {'ref:ruian:addr': '31171753', 'addr:conscriptionnumber': '2941', 'amenity': 'library', 'name': 'Knihovna', 'addr:street': 'Kutuzovova', 'addr:streetnumber': '14', 'addr:housenumber': '2941/14', 'addr:postcode': '70300', 'addr:place': 'Vítkovice'}\n"
     ]
    }
   ],
   "source": [
    "for nd in resp_p.nodes:\n",
    "    print(nd.id, nd.tags)"
   ]
  },
  {
   "cell_type": "markdown",
   "metadata": {},
   "source": [
    "## ad 3. Serialize"
   ]
  },
  {
   "cell_type": "code",
   "execution_count": 7,
   "metadata": {},
   "outputs": [],
   "source": [
    "lats = [50.000, 49.000, 48.000]\n",
    "lons = [18.272, 18.272, 18.272]"
   ]
  },
  {
   "cell_type": "code",
   "execution_count": 8,
   "metadata": {},
   "outputs": [
    {
     "name": "stdout",
     "output_type": "stream",
     "text": [
      "# parking places at [ 50.0 18.272 ]: 14\n",
      "# parking places at [ 49.0 18.272 ]: 19\n",
      "# parking places at [ 48.0 18.272 ]: 1\n"
     ]
    }
   ],
   "source": [
    "for lat, lon in zip(lats, lons):\n",
    "    resp_s = api.query(\"\"\"\n",
    "    node\n",
    "      [amenity=parking]\n",
    "      (around: 5000,{},{});\n",
    "    out;\"\"\".format(lat, lon))\n",
    "\n",
    "    print(\"# parking places at [\", lat, lon,\"]:\", len(resp_s.nodes))"
   ]
  },
  {
   "cell_type": "code",
   "execution_count": null,
   "metadata": {},
   "outputs": [],
   "source": []
  },
  {
   "cell_type": "code",
   "execution_count": null,
   "metadata": {},
   "outputs": [],
   "source": []
  }
 ],
 "metadata": {
  "kernelspec": {
   "display_name": "Python 3",
   "language": "python",
   "name": "python3"
  },
  "language_info": {
   "codemirror_mode": {
    "name": "ipython",
    "version": 3
   },
   "file_extension": ".py",
   "mimetype": "text/x-python",
   "name": "python",
   "nbconvert_exporter": "python",
   "pygments_lexer": "ipython3",
   "version": "3.5.2"
  }
 },
 "nbformat": 4,
 "nbformat_minor": 2
}
